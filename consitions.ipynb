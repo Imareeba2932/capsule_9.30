{
 "cells": [
  {
   "cell_type": "markdown",
   "metadata": {},
   "source": [
    "Condition Statements\n",
    "- if\n",
    "- if else\n",
    "- elif\n",
    "- nested if"
   ]
  },
  {
   "cell_type": "code",
   "execution_count": 3,
   "metadata": {},
   "outputs": [
    {
     "name": "stdout",
     "output_type": "stream",
     "text": [
      "a is less than b\n",
      "a is less than c\n"
     ]
    }
   ],
   "source": [
    "a = 5\n",
    "b = 15\n",
    "c = 10\n",
    "if a > b:\n",
    "    print(\"a is greater than b\")\n",
    "if a < b:\n",
    "    print(\"a is less than b\")\n",
    "if a>c:\n",
    "    print(\"a is greater than c\")\n",
    "if a<c:\n",
    "    print(\"a is less than c\")"
   ]
  },
  {
   "cell_type": "code",
   "execution_count": 6,
   "metadata": {},
   "outputs": [
    {
     "name": "stdout",
     "output_type": "stream",
     "text": [
      "number is invalid\n"
     ]
    }
   ],
   "source": [
    "a = 5\n",
    "b = 15\n",
    "c = 10\n",
    "if a > b:\n",
    "    print(\"a is greater than b\")\n",
    "elif a > b:\n",
    "    print(\"a is less than b\")\n",
    "elif a>c:\n",
    "    print(\"a is greater than c\")\n",
    "elif a>c:\n",
    "    print(\"a is less than c\")\n",
    "else:\n",
    "    print(\"number is invalid\")"
   ]
  },
  {
   "cell_type": "code",
   "execution_count": 8,
   "metadata": {},
   "outputs": [
    {
     "name": "stdout",
     "output_type": "stream",
     "text": [
      "number is even\n"
     ]
    }
   ],
   "source": [
    "a = int(input(\"Enter the number\"))\n",
    "if a%2 == 0:\n",
    "    print(\"number is even\")\n",
    "else:\n",
    "    print(\"number is odd\")"
   ]
  },
  {
   "cell_type": "code",
   "execution_count": 3,
   "metadata": {},
   "outputs": [
    {
     "name": "stdout",
     "output_type": "stream",
     "text": [
      "x is not greater than 5\n"
     ]
    }
   ],
   "source": [
    "x=4\n",
    "y=5\n",
    "if x>5:\n",
    "    if y>2:\n",
    "        print(\"Both x and y are greater than 5 and 2, respectively\")\n",
    "    else:\n",
    "        print(\"x is greater than 5 but y is less than 2\")\n",
    "else:\n",
    "    print('x is not greater than 5')"
   ]
  },
  {
   "cell_type": "code",
   "execution_count": 4,
   "metadata": {},
   "outputs": [
    {
     "name": "stdout",
     "output_type": "stream",
     "text": [
      "Invalid email 😒😒\n"
     ]
    }
   ],
   "source": [
    "username = input(\"Enter the username\")\n",
    "email = input(\"Enter the email\")\n",
    "pwd = input(\"Enter the password\")\n",
    "pwd2 = input(\"Enter the password again\")\n",
    "if len(username)>=4 and len(username)<=15:\n",
    "    if '@' in email and len(email)>10:\n",
    "        if pwd == pwd2:\n",
    "            print(\"Account created successfully 🎉🎉🎉\")\n",
    "        else:\n",
    "            print(\"Password doesn't match 🤦‍♀️🤦‍♀️\")\n",
    "    else:\n",
    "        print(\"Invalid email 😒😒\")\n",
    "else:\n",
    "    print(\"Invalid username 😭😭😭\")\n"
   ]
  },
  {
   "cell_type": "code",
   "execution_count": null,
   "metadata": {},
   "outputs": [],
   "source": []
  }
 ],
 "metadata": {
  "kernelspec": {
   "display_name": "Python 3",
   "language": "python",
   "name": "python3"
  },
  "language_info": {
   "codemirror_mode": {
    "name": "ipython",
    "version": 3
   },
   "file_extension": ".py",
   "mimetype": "text/x-python",
   "name": "python",
   "nbconvert_exporter": "python",
   "pygments_lexer": "ipython3",
   "version": "3.11.4"
  }
 },
 "nbformat": 4,
 "nbformat_minor": 2
}
